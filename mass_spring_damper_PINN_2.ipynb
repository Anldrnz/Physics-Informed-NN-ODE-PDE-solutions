{
  "cells": [
    {
      "cell_type": "markdown",
      "metadata": {
        "id": "view-in-github",
        "colab_type": "text"
      },
      "source": [
        "<a href=\"https://colab.research.google.com/github/Anldrnz/Physics-Informed-NN-ODE-PDE-solutions/blob/main/mass_spring_damper_PINN_2.ipynb\" target=\"_parent\"><img src=\"https://colab.research.google.com/assets/colab-badge.svg\" alt=\"Open In Colab\"/></a>"
      ]
    },
    {
      "cell_type": "markdown",
      "metadata": {
        "id": "0qFbYDyQyM1r"
      },
      "source": [
        "## Problem\n",
        "\n",
        "Mass spring damper system\n",
        "\n",
        "- input: t\n",
        "- output: u\n",
        "- No external force\n",
        "- Changing mass\n",
        "\n",
        "### ***Single input of time not working well, moving on to version 2***"
      ]
    },
    {
      "cell_type": "code",
      "execution_count": 2,
      "metadata": {
        "id": "8n5uuMpWyM1x"
      },
      "outputs": [],
      "source": [
        "import torch\n",
        "import torch.nn as nn\n",
        "from torch.autograd import Variable\n",
        "device = torch.device(\"cuda:0\" if torch.cuda.is_available() else \"cpu\")"
      ]
    },
    {
      "cell_type": "code",
      "execution_count": 3,
      "metadata": {
        "id": "vIBkmH84yM1z"
      },
      "outputs": [],
      "source": [
        "import numpy as np\n"
      ]
    },
    {
      "cell_type": "code",
      "execution_count": 236,
      "metadata": {
        "id": "kbAwmXY_yM1z"
      },
      "outputs": [],
      "source": [
        "# We consider Net as our solution u_theta(x,t)\n",
        "\n",
        "\"\"\"\n",
        "When forming the network, we have to keep in mind the number of inputs and outputs\n",
        "In ur case: #inputs = 2 (x,t)\n",
        "and #outputs = 1\n",
        "\n",
        "You can add ass many hidden layers as you want with as many neurons.\n",
        "More complex the network, the more prepared it is to find complex solutions, but it also requires more data.\n",
        "\n",
        "Let us create this network:\n",
        "min 5 hidden layer with 5 neurons each.\n",
        "\"\"\"\n",
        "\n",
        "class Net(nn.Module):\n",
        "    def __init__(self):\n",
        "        super(Net, self).__init__()\n",
        "        self.hidden_layer1 = nn.Linear(1,20)\n",
        "        self.hidden_layer2 = nn.Linear(20,20)\n",
        "        self.output_layer = nn.Linear(20,1)\n",
        "\n",
        "    def forward(self, t):\n",
        "        input = t\n",
        "        layer1_out = torch.tanh(self.hidden_layer1(input))\n",
        "        layer2_out = torch.tanh(self.hidden_layer2(layer1_out))\n",
        "        output = self.output_layer(layer2_out) ## For regression, no activation is used in output layer\n",
        "        return output"
      ]
    },
    {
      "cell_type": "code",
      "execution_count": 237,
      "metadata": {
        "id": "tquBBENwyM10"
      },
      "outputs": [],
      "source": [
        "### (2) Model\n",
        "net = Net()\n",
        "net = net.to(device)\n",
        "mse_cost_function = torch.nn.MSELoss() # Mean squared error\n",
        "optimizer = torch.optim.Adam(net.parameters())"
      ]
    },
    {
      "cell_type": "code",
      "source": [
        "import math\n",
        "\n",
        "dt = 0.05 # ΔT (sampling period) seconds\n",
        "# Initial values\n",
        "position = 0\n",
        "velocity = 0\n",
        "acceleration = 0\n",
        "\n",
        "# Constants\n",
        "mass = 1 # mass\n",
        "k = 0.8 # spring coefficient\n",
        "b = 0.2 # damping coefficient\n",
        "external_force = 2\n",
        "\n",
        "# Callback Function\n",
        "def f_real():\n",
        "    global dt, position, velocity, acceleration, mass, k, b # Get global variables\n",
        "\n",
        "    spring_force = k * position # Fs = k * x\n",
        "    damper_force = b * velocity # Fb = b * x'\n",
        "\n",
        "    # If we leave the acceleration alone in equation\n",
        "    # acceleration = - ((b * velocity) + (k * position)) / mass\n",
        "    acceleration = - (external_force + spring_force + damper_force) / mass\n",
        "    velocity += (acceleration * dt) # Integral(a) = v\n",
        "    position += (velocity * dt) # Integral(v) = x\n",
        "    mass -= 0.0015*math.sin(2*math.pi*dt) + 0.005*dt\n",
        "\n",
        "    return (position) # Return position"
      ],
      "metadata": {
        "id": "IPTv0PXClOtl"
      },
      "execution_count": 216,
      "outputs": []
    },
    {
      "cell_type": "code",
      "source": [
        "import matplotlib.pyplot as plt\n",
        "from random import sample\n",
        "\n",
        "position = 0\n",
        "velocity = 0\n",
        "acceleration = 0\n",
        "\n",
        "# Constants\n",
        "mass = 1 # mass\n",
        "k = 0.8 # spring coefficient\n",
        "b = 0.2 # damping coefficient\n",
        "external_force = 2\n",
        "\n",
        "# create data\n",
        "t = np.arange(0,40,0.05)\n",
        "train_data_count = 20\n",
        "\n",
        "pos_real = np.array([])\n",
        "for i in range(len(t)):\n",
        "  pos_real = np.append(pos_real, f_real())\n",
        "\n",
        "# plot lines\n",
        "plt.plot(t, pos_real, label = \"Analytical Solution\", color=\"blue\")\n",
        "\n",
        "# get random input data\n",
        "t_sample = np.random.choice(t,train_data_count)\n",
        "x_sample_idx = np.zeros(len(t_sample))\n",
        "for i in range(len(t_sample)):\n",
        "  x_sample_idx[i] = int(t_sample[i]/0.05)\n",
        "x_sample = pos_real[x_sample_idx.astype(int)]\n",
        "plt.plot(t_sample, x_sample, 'o', color=\"red\")"
      ],
      "metadata": {
        "colab": {
          "base_uri": "https://localhost:8080/",
          "height": 282
        },
        "id": "LInwM9HJmf4b",
        "outputId": "af921c90-c8f6-4104-d9b0-18ce091a8918"
      },
      "execution_count": 217,
      "outputs": [
        {
          "output_type": "execute_result",
          "data": {
            "text/plain": [
              "[<matplotlib.lines.Line2D at 0x7f0b23603d90>]"
            ]
          },
          "metadata": {},
          "execution_count": 217
        },
        {
          "output_type": "display_data",
          "data": {
            "image/png": "[encoded data removed]",
            "text/plain": [
              "<Figure size 432x288 with 1 Axes>"
            ]
          },
          "metadata": {
            "needs_background": "light"
          }
        }
      ]
    },
    {
      "cell_type": "code",
      "execution_count": 218,
      "metadata": {
        "id": "r4t0wWdtyM11"
      },
      "outputs": [],
      "source": [
        "# Constants\n",
        "mass = 1 # mass\n",
        "k = 0.8 # spring coefficient\n",
        "b = 0.2 # damping coefficient\n",
        "external_force = 2\n",
        "\n",
        "def f(t, net):\n",
        "    u = net(t) # the dependent variable u is given by the network based on independent variables t\n",
        "    u_t = torch.autograd.grad(u.sum(), t, create_graph=True)[0] # Velocity\n",
        "    u_tt = torch.autograd.grad(u_t.sum(), t, create_graph=True)[0] # Acceleration\n",
        "    eqn = (mass*u_tt + b*u_t + k*u + external_force)\n",
        "    return eqn"
      ]
    },
    {
      "cell_type": "code",
      "execution_count": 244,
      "metadata": {
        "id": "tQDrUbVDyM12",
        "outputId": "b59fc106-1095-43bd-f1f2-edc1e4d0f63c",
        "colab": {
          "base_uri": "https://localhost:8080/"
        }
      },
      "outputs": [
        {
          "output_type": "stream",
          "name": "stdout",
          "text": [
            "0 Traning Loss: tensor(0.3283) mse_u: tensor(0.3283, grad_fn=<MseLossBackward0>) mse_f tensor(1.2274e-05, grad_fn=<MseLossBackward0>)\n",
            "500 Traning Loss: tensor(0.0084) mse_u: tensor(0.0053, grad_fn=<MseLossBackward0>) mse_f tensor(0.0031, grad_fn=<MseLossBackward0>)\n",
            "1000 Traning Loss: tensor(0.0075) mse_u: tensor(0.0045, grad_fn=<MseLossBackward0>) mse_f tensor(0.0031, grad_fn=<MseLossBackward0>)\n",
            "1500 Traning Loss: tensor(0.0065) mse_u: tensor(0.0038, grad_fn=<MseLossBackward0>) mse_f tensor(0.0027, grad_fn=<MseLossBackward0>)\n",
            "2000 Traning Loss: tensor(0.0063) mse_u: tensor(0.0033, grad_fn=<MseLossBackward0>) mse_f tensor(0.0030, grad_fn=<MseLossBackward0>)\n",
            "2500 Traning Loss: tensor(0.0059) mse_u: tensor(0.0031, grad_fn=<MseLossBackward0>) mse_f tensor(0.0028, grad_fn=<MseLossBackward0>)\n",
            "3000 Traning Loss: tensor(0.0056) mse_u: tensor(0.0031, grad_fn=<MseLossBackward0>) mse_f tensor(0.0024, grad_fn=<MseLossBackward0>)\n",
            "3500 Traning Loss: tensor(0.0057) mse_u: tensor(0.0029, grad_fn=<MseLossBackward0>) mse_f tensor(0.0028, grad_fn=<MseLossBackward0>)\n",
            "4000 Traning Loss: tensor(0.0056) mse_u: tensor(0.0028, grad_fn=<MseLossBackward0>) mse_f tensor(0.0028, grad_fn=<MseLossBackward0>)\n",
            "4500 Traning Loss: tensor(0.0055) mse_u: tensor(0.0027, grad_fn=<MseLossBackward0>) mse_f tensor(0.0028, grad_fn=<MseLossBackward0>)\n",
            "5000 Traning Loss: tensor(0.0052) mse_u: tensor(0.0025, grad_fn=<MseLossBackward0>) mse_f tensor(0.0027, grad_fn=<MseLossBackward0>)\n",
            "5500 Traning Loss: tensor(0.0052) mse_u: tensor(0.0024, grad_fn=<MseLossBackward0>) mse_f tensor(0.0027, grad_fn=<MseLossBackward0>)\n",
            "6000 Traning Loss: tensor(0.0056) mse_u: tensor(0.0022, grad_fn=<MseLossBackward0>) mse_f tensor(0.0034, grad_fn=<MseLossBackward0>)\n",
            "6500 Traning Loss: tensor(0.0049) mse_u: tensor(0.0022, grad_fn=<MseLossBackward0>) mse_f tensor(0.0027, grad_fn=<MseLossBackward0>)\n",
            "7000 Traning Loss: tensor(0.0047) mse_u: tensor(0.0019, grad_fn=<MseLossBackward0>) mse_f tensor(0.0028, grad_fn=<MseLossBackward0>)\n",
            "7500 Traning Loss: tensor(0.0046) mse_u: tensor(0.0019, grad_fn=<MseLossBackward0>) mse_f tensor(0.0027, grad_fn=<MseLossBackward0>)\n",
            "8000 Traning Loss: tensor(0.0042) mse_u: tensor(0.0018, grad_fn=<MseLossBackward0>) mse_f tensor(0.0024, grad_fn=<MseLossBackward0>)\n",
            "8500 Traning Loss: tensor(0.0045) mse_u: tensor(0.0017, grad_fn=<MseLossBackward0>) mse_f tensor(0.0027, grad_fn=<MseLossBackward0>)\n",
            "9000 Traning Loss: tensor(0.0042) mse_u: tensor(0.0017, grad_fn=<MseLossBackward0>) mse_f tensor(0.0025, grad_fn=<MseLossBackward0>)\n",
            "9500 Traning Loss: tensor(0.0045) mse_u: tensor(0.0017, grad_fn=<MseLossBackward0>) mse_f tensor(0.0028, grad_fn=<MseLossBackward0>)\n"
          ]
        }
      ],
      "source": [
        "### (3) Training\n",
        "\n",
        "iterations = 10000\n",
        "for epoch in range(iterations):\n",
        "#epoch = 0\n",
        "#loss = torch.from_numpy(np.array([1]))\n",
        "#while loss.data > 0.0005:\n",
        "    #epoch += 1\n",
        "    optimizer.zero_grad() # to make the gradients zero\n",
        "    \n",
        "    # Loss based on observed data\n",
        "    t_data = Variable(torch.from_numpy(t_sample).float(), requires_grad=False).to(device)\n",
        "    x_data = Variable(torch.from_numpy(x_sample).float(), requires_grad=False).to(device)\n",
        "    net_x_out = net(t_data.reshape(len(t_data),1)) # output of u(t)\n",
        "\n",
        "    mse_u = mse_cost_function(net_x_out, x_data.reshape(len(x_data),1))\n",
        "    \n",
        "    # Loss based on ODE\n",
        "    t_collocation = np.random.uniform(low=0.0, high=40.0, size=(800,1))\n",
        "    all_zeros = np.zeros((800,1))\n",
        "    \n",
        "    pt_t_collocation = Variable(torch.from_numpy(t_collocation).float(), requires_grad=True).to(device)\n",
        "    pt_all_zeros = Variable(torch.from_numpy(all_zeros).float(), requires_grad=False).to(device)\n",
        "    \n",
        "    f_out = f(pt_t_collocation.reshape(len(pt_t_collocation),1), net) # output of f(x,t)\n",
        "    mse_f = mse_cost_function(f_out, pt_all_zeros.reshape(len(pt_all_zeros),1))\n",
        "    \n",
        "    # Combining the loss functions\n",
        "    loss = mse_u + mse_f\n",
        "    \n",
        "    loss.backward()\n",
        "    optimizer.step()\n",
        "\n",
        "    with torch.autograd.no_grad():\n",
        "      if epoch % 500 == 0:\n",
        "        print(epoch,\"Traning Loss:\",loss.data,\"mse_u:\",mse_u,\"mse_f\",mse_f)\n"
      ]
    },
    {
      "cell_type": "code",
      "source": [
        "import matplotlib.pyplot as plt\n",
        "from random import sample\n",
        "\n",
        "t = np.arange(0,40,0.05)\n",
        "\n",
        "# plot lines\n",
        "plt.plot(t, pos_real, label = \"Analytical Solution\", color=\"blue\")\n",
        "\n",
        "# get random input data\n",
        "plt.plot(t_sample, x_sample, 'o', color=\"red\")\n",
        "\n",
        "pt_t = Variable(torch.from_numpy(t).float(), requires_grad=True).to(device)\n",
        "out = net(pt_t.reshape(len(pt_t),1))\n",
        "out=out.data.cpu().numpy()\n",
        "plt.plot(t, out, label = \"NN Solution\", color=\"green\")"
      ],
      "metadata": {
        "colab": {
          "base_uri": "https://localhost:8080/",
          "height": 282
        },
        "id": "5MK6WVmR9A7L",
        "outputId": "b8045547-a1fe-4eda-bcd6-8314af98226a"
      },
      "execution_count": 245,
      "outputs": [
        {
          "output_type": "execute_result",
          "data": {
            "text/plain": [
              "[<matplotlib.lines.Line2D at 0x7f0b23155d50>]"
            ]
          },
          "metadata": {},
          "execution_count": 245
        },
        {
          "output_type": "display_data",
          "data": {
            "image/png": "[encoded data removed]",
            "text/plain": [
              "<Figure size 432x288 with 1 Axes>"
            ]
          },
          "metadata": {
            "needs_background": "light"
          }
        }
      ]
    },
    {
      "cell_type": "code",
      "execution_count": null,
      "metadata": {
        "id": "RCTZw3NjyM15"
      },
      "outputs": [],
      "source": [
        "# Save Model\n",
        "torch.save(net.state_dict(), \"model_uxt.pt\")"
      ]
    }
  ],
  "metadata": {
    "kernelspec": {
      "display_name": "Python 3",
      "language": "python",
      "name": "python3"
    },
    "language_info": {
      "codemirror_mode": {
        "name": "ipython",
        "version": 3
      },
      "file_extension": ".py",
      "mimetype": "text/x-python",
      "name": "python",
      "nbconvert_exporter": "python",
      "pygments_lexer": "ipython3",
      "version": "3.5.2"
    },
    "colab": {
      "name": "solve_PDE_NN.ipynb_mycopy",
      "provenance": [],
      "include_colab_link": true
    }
  },
  "nbformat": 4,
  "nbformat_minor": 0
}